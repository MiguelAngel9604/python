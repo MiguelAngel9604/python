{
  "nbformat": 4,
  "nbformat_minor": 0,
  "metadata": {
    "colab": {
      "provenance": [],
      "collapsed_sections": [],
      "authorship_tag": "ABX9TyNq8qsb+JIR+d7kJCUdu2Mv",
      "include_colab_link": true
    },
    "kernelspec": {
      "name": "python3",
      "display_name": "Python 3"
    },
    "language_info": {
      "name": "python"
    }
  },
  "cells": [
    {
      "cell_type": "markdown",
      "metadata": {
        "id": "view-in-github",
        "colab_type": "text"
      },
      "source": [
        "<a href=\"https://colab.research.google.com/github/MiguelAngel9604/python/blob/main/Python_exercices.ipynb\" target=\"_parent\"><img src=\"https://colab.research.google.com/assets/colab-badge.svg\" alt=\"Open In Colab\"/></a>"
      ]
    },
    {
      "cell_type": "code",
      "execution_count": 2,
      "metadata": {
        "colab": {
          "base_uri": "https://localhost:8080/"
        },
        "id": "xeZkNbv-_T4d",
        "outputId": "4b55b2eb-a2b4-410b-9e7f-288a51406eda"
      },
      "outputs": [
        {
          "output_type": "stream",
          "name": "stdout",
          "text": [
            "8\n"
          ]
        }
      ],
      "source": [
        "#Find the Max of three numbers\n",
        "import numpy\n",
        "numbers = [5,6,8]\n",
        "\n",
        "def get_max(numbers):\n",
        "  return numpy.max(numbers)\n",
        "    \n",
        "print(get_max(numbers))"
      ]
    },
    {
      "cell_type": "code",
      "source": [
        "#Write a Python function to sum all the numbers in a list\n",
        "import numpy\n",
        "numbers = [5,6,8,9,10]\n",
        "\n",
        "\n",
        "def sum_list(numbers:list):\n",
        "  return numpy.sum(numbers)\n",
        "    \n",
        "print(sum_list(numbers))"
      ],
      "metadata": {
        "id": "YcA4xdBNACnS"
      },
      "execution_count": null,
      "outputs": []
    },
    {
      "cell_type": "code",
      "source": [
        "#Write a Python function to multiply all the numbers in a list\n",
        "import numpy\n",
        "numbers = [5,6,8,9,10]\n",
        "\n",
        "\n",
        "def mul_list(numbers:list):\n",
        "  return numpy.product(numbers)\n",
        "    \n",
        "print(mul_list(numbers))"
      ],
      "metadata": {
        "id": "ZNyQuEtGAnYm"
      },
      "execution_count": null,
      "outputs": []
    },
    {
      "cell_type": "code",
      "source": [
        "#Write a Python program to reverse a string. \n",
        "import numpy\n",
        "string_ori = \"python\"\n",
        "\n",
        "\n",
        "def rev_string(string_ori):\n",
        "  return string_ori[::-1]\n",
        "    \n",
        "print(rev_string(string_ori))"
      ],
      "metadata": {
        "id": "OqUeE83wBZEU"
      },
      "execution_count": null,
      "outputs": []
    },
    {
      "cell_type": "code",
      "source": [
        "#Write a Python function to calculate the factorial of a number (a non-negative integer). The function accepts the number as an argument.\n",
        "def factorial(num):\n",
        "  if num == 0:\n",
        "    return 1\n",
        "  else:\n",
        "    return num * factorial(num-1)\n",
        "      \n",
        "print(factorial(4))      "
      ],
      "metadata": {
        "id": "lyafXpzBCWiu"
      },
      "execution_count": null,
      "outputs": []
    }
  ]
}