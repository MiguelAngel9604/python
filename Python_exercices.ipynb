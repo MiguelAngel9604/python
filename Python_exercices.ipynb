{
  "nbformat": 4,
  "nbformat_minor": 0,
  "metadata": {
    "colab": {
      "provenance": [],
      "collapsed_sections": [],
      "authorship_tag": "ABX9TyPR6OgJvz4PAF06uO3B4xzD",
      "include_colab_link": true
    },
    "kernelspec": {
      "name": "python3",
      "display_name": "Python 3"
    },
    "language_info": {
      "name": "python"
    }
  },
  "cells": [
    {
      "cell_type": "markdown",
      "metadata": {
        "id": "view-in-github",
        "colab_type": "text"
      },
      "source": [
        "<a href=\"https://colab.research.google.com/github/MiguelAngel9604/python/blob/main/Python_exercices.ipynb\" target=\"_parent\"><img src=\"https://colab.research.google.com/assets/colab-badge.svg\" alt=\"Open In Colab\"/></a>"
      ]
    },
    {
      "cell_type": "code",
      "execution_count": null,
      "metadata": {
        "id": "xeZkNbv-_T4d"
      },
      "outputs": [],
      "source": [
        "#Find the Max of three numbers\n",
        "import numpy\n",
        "numbers = [5,6,8]\n",
        "\n",
        "def get_max(numbers):\n",
        "  return numpy.max(numbers)\n",
        "    \n",
        "print(get_max(numbers))"
      ]
    }
  ]
}